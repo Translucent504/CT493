{
  "nbformat": 4,
  "nbformat_minor": 0,
  "metadata": {
    "kernelspec": {
      "display_name": "Python 3",
      "language": "python",
      "name": "python3"
    },
    "language_info": {
      "codemirror_mode": {
        "name": "ipython",
        "version": 3
      },
      "file_extension": ".py",
      "mimetype": "text/x-python",
      "name": "python",
      "nbconvert_exporter": "python",
      "pygments_lexer": "ipython3",
      "version": "3.7.4"
    },
    "colab": {
      "name": "CT493_Data_Structures_and_Algorithms.ipynb",
      "provenance": []
    }
  },
  "cells": [
    {
      "cell_type": "code",
      "metadata": {
        "id": "TTcmM9X3jylf",
        "colab_type": "code",
        "colab": {}
      },
      "source": [
        "import unittest "
      ],
      "execution_count": 0,
      "outputs": []
    },
    {
      "cell_type": "markdown",
      "metadata": {
        "id": "Eb7dT7cXhAn9",
        "colab_type": "text"
      },
      "source": [
        "# Homework\n",
        "## Linear Data structures:\n",
        "1. Array\n",
        "2. Stack\n",
        "3. Queue:\n",
        "    - **Circular queue**.\n",
        "4. Linked list"
      ]
    },
    {
      "cell_type": "code",
      "metadata": {
        "id": "NUxJJDG9hAoC",
        "colab_type": "code",
        "colab": {}
      },
      "source": [
        "class Error(Exception):\n",
        "    pass\n",
        "\n",
        "class QueueIsFull(Error):\n",
        "    pass\n",
        "\n",
        "class QueueIsEmpty(Error):\n",
        "    pass\n",
        "\n",
        "class circularQueueFixed:\n",
        "    \"\"\"\n",
        "    Implementation of a fixed size queue using Lists in Python\n",
        "    \"\"\"\n",
        "    def __init__(self, size):\n",
        "        self.size = size\n",
        "        self.que = [None]*size\n",
        "        self._rear = self._front = 0\n",
        "    \n",
        "    def isFull(self):\n",
        "        return (((self._rear + 1) % self.size) == self._front) and not self.isEmpty()\n",
        "    \n",
        "    def isEmpty(self):\n",
        "        return self.getFront() is None\n",
        "    \n",
        "    def enqueue(self, item):\n",
        "        if self.isFull():\n",
        "            raise QueueIsFull\n",
        "        elif self.isEmpty():\n",
        "            self._rear = self._front\n",
        "            self.que[self._rear] = item\n",
        "        else:\n",
        "            self._rear = (self._rear + 1) % self.size\n",
        "            self.que[self._rear] = item\n",
        "         \n",
        "    def dequeue(self):\n",
        "        if self.isEmpty():\n",
        "            raise QueueIsEmpty\n",
        "        else:\n",
        "            res = self.que[self._front]\n",
        "            self.que[self._front] = None\n",
        "            self._front = (self._front + 1) % self.size\n",
        "        return res\n",
        "    \n",
        "    def getFront(self):\n",
        "        return self.que[self._front]\n",
        "    \n",
        "    def getRear(self):\n",
        "        return self.que[self._rear]\n",
        "    \n",
        "    def getState(self):\n",
        "        return self.que.copy()\n",
        "    \n",
        "            \n",
        "                   "
      ],
      "execution_count": 0,
      "outputs": []
    },
    {
      "cell_type": "markdown",
      "metadata": {
        "id": "QM546GZ-hAoP",
        "colab_type": "text"
      },
      "source": [
        "# Data operations:\n",
        "1. Traversal\n",
        "2. Insertion\n",
        "3. Deletion\n",
        "4. Search\n",
        "5. Sort\n",
        "6. Merge"
      ]
    },
    {
      "cell_type": "markdown",
      "metadata": {
        "id": "xHPasJUIhR3L",
        "colab_type": "text"
      },
      "source": [
        "# Algorithms\n",
        "\n",
        "\n",
        "*   Binary Search\n",
        "\n"
      ]
    },
    {
      "cell_type": "code",
      "metadata": {
        "id": "LZ2CNrcfirN3",
        "colab_type": "code",
        "colab": {}
      },
      "source": [
        "# Binary Search Implementation\n",
        "# Given a sorted array (asc) and an item.\n",
        "# returns the index of the item in the array if found otherwise returns None\n",
        "\n",
        "def BinarySearch(array, item):\n",
        "    beg = 0\n",
        "    end = len(array) - 1\n",
        "\n",
        "    while beg <= end:\n",
        "        mid = int((beg + end)/2)\n",
        "        if array[mid] == item:\n",
        "            return mid\n",
        "        elif array[mid] < item:\n",
        "            beg = mid + 1\n",
        "        else:\n",
        "            end = mid - 1"
      ],
      "execution_count": 0,
      "outputs": []
    },
    {
      "cell_type": "code",
      "metadata": {
        "id": "Mkvb_7nsjHtR",
        "colab_type": "code",
        "outputId": "821e1014-0c76-415f-dbbe-677dc1c4f9d3",
        "colab": {
          "base_uri": "https://localhost:8080/",
          "height": 102
        }
      },
      "source": [
        "# Binary Search Tests\n",
        "Array = [2, 13, 14, 15, 22, 23, 40, 42, 100]\n",
        "\n",
        "class test_BinarySearch(unittest.TestCase):\n",
        "    def test_lefthalf(self):\n",
        "        self.assertEqual(BinarySearch(Array, 2), 0)\n",
        "        self.assertEqual(BinarySearch(Array, 13), 1)\n",
        "        self.assertEqual(BinarySearch(Array, 14), 2)\n",
        "        self.assertEqual(BinarySearch(Array, 15), 3)\n",
        "\n",
        "    def test_righthalf(self):\n",
        "        self.assertEqual(BinarySearch(Array, 22), 4)\n",
        "        self.assertEqual(BinarySearch(Array, 23), 5)\n",
        "        self.assertEqual(BinarySearch(Array, 40), 6)\n",
        "        self.assertEqual(BinarySearch(Array, 42), 7)\n",
        "\n",
        "    def test_notfound(self):\n",
        "        self.assertEqual(BinarySearch(Array, 200), None)\n",
        "        self.assertEqual(BinarySearch(Array, 133), None)\n",
        "        self.assertEqual(BinarySearch(Array, -42), None)\n",
        "        self.assertEqual(BinarySearch(Array, 666), None)\n",
        "\n",
        "unittest.main(argv=[''], verbosity=1, exit=False);\n"
      ],
      "execution_count": 10,
      "outputs": [
        {
          "output_type": "stream",
          "text": [
            "......\n",
            "----------------------------------------------------------------------\n",
            "Ran 6 tests in 0.014s\n",
            "\n",
            "OK\n"
          ],
          "name": "stderr"
        }
      ]
    },
    {
      "cell_type": "markdown",
      "metadata": {
        "id": "uoRkAU7RyMTo",
        "colab_type": "text"
      },
      "source": [
        "# Pattern Matching\n",
        "Given a string **S** and a pattern **P** return location/index of the first occuerence of **P** in **S**. \n",
        "This is case sensitive: \n",
        "- **C is not c**\n",
        "\n",
        "## Examples:\n",
        "Assuming 0 indexed strings.\n",
        "```python\n",
        "pattern_match(string = \"NEDUET\", pattern = \"ED\") # returns 1 \n",
        "pattern_match(string = \"NEDUET\", pattern = \"ed\") # returns None (case sensitive)\n",
        "pattern_match(string = \"NEDUET\", pattern = \"ZZZZ\") # returns None\n",
        "pattern_match(string = \"NEDUET\", pattern = \"NED\") # returns 0\n",
        "pattern_match(string = \"NEDUET\", pattern = \"T\") # returns 5\n",
        "pattern_match(string = \"NEDUET\", pattern = \"E\") # returns 1 (first occurrence)\n",
        "```\n",
        "\n",
        "![image.png](data:image/png;base64,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)"
      ]
    },
    {
      "cell_type": "code",
      "metadata": {
        "id": "xl9ae17QyHwm",
        "colab_type": "code",
        "colab": {}
      },
      "source": [
        "# Pattern Matching Implementation\n",
        "# Given a pattern and a string\n",
        "# Algorithm is case sensitive.\n",
        "# returns index of first occurrence of the beginning of pattern in string\n",
        "\n",
        "def pattern_match(string, pattern):\n",
        "    i = j = 0\n",
        "    while not (i == (len(string) - len(pattern)+1) and j == 0):\n",
        "        # print(f\"i={i} j={j} {string[i]} == {pattern[j]}\")\n",
        "        if string[i] == pattern[j]:\n",
        "            i += 1\n",
        "            j += 1\n",
        "        else:\n",
        "            i += 1\n",
        "            j = 0\n",
        "        if j == len(pattern):\n",
        "            return i-j    \n",
        "    return None\n",
        "        \n"
      ],
      "execution_count": 0,
      "outputs": []
    },
    {
      "cell_type": "code",
      "metadata": {
        "id": "PQW3x-Bx5LyQ",
        "colab_type": "code",
        "colab": {
          "base_uri": "https://localhost:8080/",
          "height": 34
        },
        "outputId": "077c2320-59c8-48bc-b65e-2959a2c3f28b"
      },
      "source": [
        "x = pattern_match(\"neduet\",\"neduet\")\n",
        "print(x)"
      ],
      "execution_count": 95,
      "outputs": [
        {
          "output_type": "stream",
          "text": [
            "0\n"
          ],
          "name": "stdout"
        }
      ]
    },
    {
      "cell_type": "code",
      "metadata": {
        "id": "zgnGL_Ej0e_1",
        "colab_type": "code",
        "colab": {
          "base_uri": "https://localhost:8080/",
          "height": 204
        },
        "outputId": "67f12b04-efb3-47cb-bf4a-7ff73f9a9bbf"
      },
      "source": [
        "# Pattern Matching Tests\n",
        "string1 = \"NEDUET!!\"\n",
        "string2 = \"AAABBBXXX\"\n",
        "string3 = \"neduet\"\n",
        "\n",
        "class test_pattern_match(unittest.TestCase):\n",
        "    def test_single_occurrence(self):\n",
        "        self.assertEqual(pattern_match(string1, \"ED\"), 1)\n",
        "        self.assertEqual(pattern_match(string1, \"NED\"), 0)\n",
        "        self.assertEqual(pattern_match(string1, \"UE\"), 3)\n",
        "        self.assertEqual(pattern_match(string1, \"ET\"), 4)\n",
        "        self.assertEqual(pattern_match(string3, \"neduet\"), 0)\n",
        "\n",
        "    def test_multiple_occurrence(self):\n",
        "        self.assertEqual(pattern_match(string1, \"E\"), 1)\n",
        "        self.assertEqual(pattern_match(string2, \"A\"), 0)\n",
        "        self.assertEqual(pattern_match(string2, \"AA\"), 0)\n",
        "        self.assertEqual(pattern_match(string2, \"B\"), 3)\n",
        "        self.assertEqual(pattern_match(string2, \"AB\"), 2)\n",
        "        self.assertEqual(pattern_match(string2, \"BX\"), 5)\n",
        "\n",
        "    def test_no_occurrence(self):\n",
        "        self.assertEqual(pattern_match(string2, \"NED\"), None)\n",
        "        self.assertEqual(pattern_match(string2, \"ABC\"), None)\n",
        "        self.assertEqual(pattern_match(string1, \"ANED\"), None)\n",
        "        self.assertEqual(pattern_match(string1, \"ned\"), None)\n",
        "unittest.main(argv=[''], verbosity=2, exit=False);"
      ],
      "execution_count": 96,
      "outputs": [
        {
          "output_type": "stream",
          "text": [
            "test_lefthalf (__main__.test_BinarySearch) ... ok\n",
            "test_notfound (__main__.test_BinarySearch) ... ok\n",
            "test_righthalf (__main__.test_BinarySearch) ... ok\n",
            "test_multiple_occurrence (__main__.test_pattern_match) ... ok\n",
            "test_no_occurrence (__main__.test_pattern_match) ... ok\n",
            "test_single_occurrence (__main__.test_pattern_match) ... ok\n",
            "\n",
            "----------------------------------------------------------------------\n",
            "Ran 6 tests in 0.017s\n",
            "\n",
            "OK\n"
          ],
          "name": "stderr"
        }
      ]
    }
  ]
}