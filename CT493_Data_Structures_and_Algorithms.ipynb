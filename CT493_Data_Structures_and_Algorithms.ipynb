{
  "nbformat": 4,
  "nbformat_minor": 0,
  "metadata": {
    "kernelspec": {
      "display_name": "Python 3",
      "language": "python",
      "name": "python3"
    },
    "language_info": {
      "codemirror_mode": {
        "name": "ipython",
        "version": 3
      },
      "file_extension": ".py",
      "mimetype": "text/x-python",
      "name": "python",
      "nbconvert_exporter": "python",
      "pygments_lexer": "ipython3",
      "version": "3.7.4"
    },
    "colab": {
      "name": "CT493_Data_Structures_and_Algorithms.ipynb",
      "provenance": [],
      "collapsed_sections": [],
      "include_colab_link": true
    }
  },
  "cells": [
    {
      "cell_type": "markdown",
      "metadata": {
        "id": "view-in-github",
        "colab_type": "text"
      },
      "source": [
        "<a href=\"https://colab.research.google.com/github/Translucent504/CT493/blob/master/CT493_Data_Structures_and_Algorithms.ipynb\" target=\"_parent\"><img src=\"https://colab.research.google.com/assets/colab-badge.svg\" alt=\"Open In Colab\"/></a>"
      ]
    },
    {
      "cell_type": "code",
      "metadata": {
        "id": "TTcmM9X3jylf",
        "colab_type": "code",
        "colab": {}
      },
      "source": [
        "import unittest "
      ],
      "execution_count": 0,
      "outputs": []
    },
    {
      "cell_type": "markdown",
      "metadata": {
        "id": "Eb7dT7cXhAn9",
        "colab_type": "text"
      },
      "source": [
        "# Homework\n",
        "## Linear Data structures:\n",
        "1. Array\n",
        "2. Stack\n",
        "3. Queue:\n",
        "    - **Circular queue**.\n",
        "4. Linked list"
      ]
    },
    {
      "cell_type": "code",
      "metadata": {
        "id": "NUxJJDG9hAoC",
        "colab_type": "code",
        "colab": {}
      },
      "source": [
        "class Error(Exception):\n",
        "    pass\n",
        "\n",
        "class QueueIsFull(Error):\n",
        "    pass\n",
        "\n",
        "class QueueIsEmpty(Error):\n",
        "    pass\n",
        "\n",
        "class circularQueueFixed:\n",
        "    \"\"\"\n",
        "    Implementation of a fixed size queue using Lists in Python\n",
        "    \"\"\"\n",
        "    def __init__(self, size):\n",
        "        self.size = size\n",
        "        self.que = [None]*size\n",
        "        self._rear = self._front = 0\n",
        "    \n",
        "    def isFull(self):\n",
        "        return (((self._rear + 1) % self.size) == self._front) and not self.isEmpty()\n",
        "    \n",
        "    def isEmpty(self):\n",
        "        return self.getFront() is None\n",
        "    \n",
        "    def enqueue(self, item):\n",
        "        if self.isFull():\n",
        "            raise QueueIsFull\n",
        "        elif self.isEmpty():\n",
        "            self._rear = self._front\n",
        "            self.que[self._rear] = item\n",
        "        else:\n",
        "            self._rear = (self._rear + 1) % self.size\n",
        "            self.que[self._rear] = item\n",
        "         \n",
        "    def dequeue(self):\n",
        "        if self.isEmpty():\n",
        "            raise QueueIsEmpty\n",
        "        else:\n",
        "            res = self.que[self._front]\n",
        "            self.que[self._front] = None\n",
        "            self._front = (self._front + 1) % self.size\n",
        "        return res\n",
        "    \n",
        "    def getFront(self):\n",
        "        return self.que[self._front]\n",
        "    \n",
        "    def getRear(self):\n",
        "        return self.que[self._rear]\n",
        "    \n",
        "    def getState(self):\n",
        "        return self.que.copy()\n",
        "    \n",
        "            \n",
        "                   "
      ],
      "execution_count": 0,
      "outputs": []
    },
    {
      "cell_type": "markdown",
      "metadata": {
        "id": "QM546GZ-hAoP",
        "colab_type": "text"
      },
      "source": [
        "# Data operations:\n",
        "1. Traversal\n",
        "2. Insertion\n",
        "3. Deletion\n",
        "4. Search\n",
        "5. Sort\n",
        "6. Merge"
      ]
    },
    {
      "cell_type": "markdown",
      "metadata": {
        "id": "xHPasJUIhR3L",
        "colab_type": "text"
      },
      "source": [
        "# Algorithms\n",
        "\n",
        "\n",
        "*   Binary Search\n",
        "\n"
      ]
    },
    {
      "cell_type": "code",
      "metadata": {
        "id": "LZ2CNrcfirN3",
        "colab_type": "code",
        "colab": {}
      },
      "source": [
        "# Binary Search Implementation\n",
        "# Given a sorted array (asc) and an item.\n",
        "# returns the index of the item in the array if found otherwise returns None\n",
        "\n",
        "def BinarySearch(array, item):\n",
        "    beg = 0\n",
        "    end = len(array) - 1\n",
        "\n",
        "    while beg <= end:\n",
        "        mid = int((beg + end)/2)\n",
        "        if array[mid] == item:\n",
        "            return mid\n",
        "        elif array[mid] < item:\n",
        "            beg = mid + 1\n",
        "        else:\n",
        "            end = mid - 1"
      ],
      "execution_count": 0,
      "outputs": []
    },
    {
      "cell_type": "code",
      "metadata": {
        "id": "Mkvb_7nsjHtR",
        "colab_type": "code",
        "outputId": "c8bcc89c-26a6-42d5-f6b5-7b504e63fd44",
        "colab": {
          "base_uri": "https://localhost:8080/",
          "height": 107
        }
      },
      "source": [
        "# Binary Search Tests\n",
        "Array = [2, 13, 14, 15, 22, 23, 40, 42, 100]\n",
        "\n",
        "class test_BinarySearch(unittest.TestCase):\n",
        "    def test_lefthalf(self):\n",
        "        self.assertEqual(BinarySearch(Array, 2), 0)\n",
        "        self.assertEqual(BinarySearch(Array, 13), 1)\n",
        "        self.assertEqual(BinarySearch(Array, 14), 2)\n",
        "        self.assertEqual(BinarySearch(Array, 15), 3)\n",
        "\n",
        "    def test_righthalf(self):\n",
        "        self.assertEqual(BinarySearch(Array, 22), 4)\n",
        "        self.assertEqual(BinarySearch(Array, 23), 5)\n",
        "        self.assertEqual(BinarySearch(Array, 40), 6)\n",
        "        self.assertEqual(BinarySearch(Array, 42), 7)\n",
        "\n",
        "    def test_notfound(self):\n",
        "        self.assertEqual(BinarySearch(Array, 200), None)\n",
        "        self.assertEqual(BinarySearch(Array, 133), None)\n",
        "        self.assertEqual(BinarySearch(Array, -42), None)\n",
        "        self.assertEqual(BinarySearch(Array, 666), None)\n",
        "\n",
        "unittest.main(argv=[''], verbosity=1, exit=False);\n"
      ],
      "execution_count": 5,
      "outputs": [
        {
          "output_type": "stream",
          "text": [
            "...\n",
            "----------------------------------------------------------------------\n",
            "Ran 3 tests in 0.010s\n",
            "\n",
            "OK\n"
          ],
          "name": "stderr"
        }
      ]
    },
    {
      "cell_type": "markdown",
      "metadata": {
        "id": "uoRkAU7RyMTo",
        "colab_type": "text"
      },
      "source": [
        "# Pattern Matching\n",
        "Given a string **S** and a pattern **P** return location/index of the first occuerence of **P** in **S**. \n",
        "This is case sensitive: \n",
        "- **C is not c**\n",
        "\n",
        "## Examples:\n",
        "Assuming 0 indexed strings.\n",
        "```python\n",
        "pattern_match(string = \"NEDUET\", pattern = \"ED\") # returns 1 \n",
        "pattern_match(string = \"NEDUET\", pattern = \"ed\") # returns None (case sensitive)\n",
        "pattern_match(string = \"NEDUET\", pattern = \"ZZZZ\") # returns None\n",
        "pattern_match(string = \"NEDUET\", pattern = \"NED\") # returns 0\n",
        "pattern_match(string = \"NEDUET\", pattern = \"T\") # returns 5\n",
        "pattern_match(string = \"NEDUET\", pattern = \"E\") # returns 1 (first occurrence)\n",
        "```\n",
        "Naive algorithm (brute force search) :\n",
        "__Assuming 1 indexed strings__\n",
        "\n",
        "![Image showing pseudocode](https://i.imgur.com/MvcheyI.png)"
      ]
    },
    {
      "cell_type": "code",
      "metadata": {
        "id": "xl9ae17QyHwm",
        "colab_type": "code",
        "colab": {}
      },
      "source": [
        "# Pattern Matching Implementation\n",
        "# Given a pattern and a string\n",
        "# Algorithm is case sensitive.\n",
        "# returns index of first occurrence of the beginning of pattern in string\n",
        "\n",
        "def pattern_match(string, pattern):\n",
        "    i = j = 0\n",
        "    while not (i == (len(string) - len(pattern)+1) and j == 0):\n",
        "        # print(f\"i={i} j={j} {string[i]} == {pattern[j]}\")\n",
        "        if string[i] == pattern[j]:\n",
        "            i += 1\n",
        "            j += 1\n",
        "        else:\n",
        "            i += 1\n",
        "            j = 0\n",
        "        if j == len(pattern):\n",
        "            return i-j    \n",
        "    return None\n",
        "        \n"
      ],
      "execution_count": 0,
      "outputs": []
    },
    {
      "cell_type": "code",
      "metadata": {
        "id": "zgnGL_Ej0e_1",
        "colab_type": "code",
        "outputId": "1dc1883d-886d-4ea1-9583-3c6183cc2c84",
        "colab": {
          "base_uri": "https://localhost:8080/",
          "height": 215
        }
      },
      "source": [
        "# Pattern Matching Tests\n",
        "string1 = \"NEDUET!!\"\n",
        "string2 = \"AAABBBXXX\"\n",
        "string3 = \"neduet\"\n",
        "\n",
        "class test_pattern_match(unittest.TestCase):\n",
        "    def test_single_occurrence(self):\n",
        "        self.assertEqual(pattern_match(string1, \"ED\"), 1)\n",
        "        self.assertEqual(pattern_match(string1, \"NED\"), 0)\n",
        "        self.assertEqual(pattern_match(string1, \"UE\"), 3)\n",
        "        self.assertEqual(pattern_match(string1, \"ET\"), 4)\n",
        "        self.assertEqual(pattern_match(string3, \"neduet\"), 0)\n",
        "\n",
        "    def test_multiple_occurrence(self):\n",
        "        self.assertEqual(pattern_match(string1, \"E\"), 1)\n",
        "        self.assertEqual(pattern_match(string2, \"A\"), 0)\n",
        "        self.assertEqual(pattern_match(string2, \"AA\"), 0)\n",
        "        self.assertEqual(pattern_match(string2, \"B\"), 3)\n",
        "        self.assertEqual(pattern_match(string2, \"AB\"), 2)\n",
        "        self.assertEqual(pattern_match(string2, \"BX\"), 5)\n",
        "\n",
        "    def test_no_occurrence(self):\n",
        "        self.assertEqual(pattern_match(string2, \"NED\"), None)\n",
        "        self.assertEqual(pattern_match(string2, \"ABC\"), None)\n",
        "        self.assertEqual(pattern_match(string1, \"ANED\"), None)\n",
        "        self.assertEqual(pattern_match(string1, \"ned\"), None)\n",
        "unittest.main(argv=[''], verbosity=2, exit=False);"
      ],
      "execution_count": 7,
      "outputs": [
        {
          "output_type": "stream",
          "text": [
            "test_lefthalf (__main__.test_BinarySearch) ... ok\n",
            "test_notfound (__main__.test_BinarySearch) ... ok\n",
            "test_righthalf (__main__.test_BinarySearch) ... ok\n",
            "test_multiple_occurrence (__main__.test_pattern_match) ... ok\n",
            "test_no_occurrence (__main__.test_pattern_match) ... ok\n",
            "test_single_occurrence (__main__.test_pattern_match) ... ok\n",
            "\n",
            "----------------------------------------------------------------------\n",
            "Ran 6 tests in 0.008s\n",
            "\n",
            "OK\n"
          ],
          "name": "stderr"
        }
      ]
    },
    {
      "cell_type": "markdown",
      "metadata": {
        "id": "vxD4_8DphmGm",
        "colab_type": "text"
      },
      "source": [
        "# Binary Trees"
      ]
    },
    {
      "cell_type": "markdown",
      "metadata": {
        "id": "AZoXQN0phwx3",
        "colab_type": "text"
      },
      "source": [
        "We first implement a simple binary tree **node** with:\n",
        "- Left child\n",
        "- Right child\n",
        "- Value"
      ]
    },
    {
      "cell_type": "code",
      "metadata": {
        "id": "FQwvlXyhhgfF",
        "colab_type": "code",
        "colab": {}
      },
      "source": [
        "class binary_tree_node():\n",
        "    def __init__(self, value):\n",
        "        self.right = None\n",
        "        self.left = None\n",
        "        self.value = value"
      ],
      "execution_count": 0,
      "outputs": []
    },
    {
      "cell_type": "markdown",
      "metadata": {
        "id": "mC2vbPoPizPw",
        "colab_type": "text"
      },
      "source": [
        "## Binary tree traversal:\n",
        "We have 3 ways of traversing a binary tree:\n",
        "1. **Pre-order** (Node - Left - Right : NLR)\n",
        "2. **In-order** (Left - Node - Right : LNR)\n",
        "3. **Post-order** (Left - Right - Node : LRN)"
      ]
    },
    {
      "cell_type": "code",
      "metadata": {
        "id": "Ht_dv8d0iglR",
        "colab_type": "code",
        "colab": {}
      },
      "source": [
        "# Let us consider a linear array representation of a binary tree:\n",
        "# The Node N is going to have its value in the list index K and\n",
        "# the value of its left child will be in the list index 2K and\n",
        "# the value of its right child will be in the list index 2K+1\n",
        "nodes = int(input(\"Total nodes in tree: \"))\n",
        "binary_tree_list = [None]*(2**nodes) # To represent a tree with 12 Nodes.\n",
        "for i in range(nodes):\n",
        "    binary_tree_list[i] = input(f\"Value for index {i+1}: \")"
      ],
      "execution_count": 0,
      "outputs": []
    },
    {
      "cell_type": "code",
      "metadata": {
        "id": "NasrQgiel2dC",
        "colab_type": "code",
        "colab": {
          "base_uri": "https://localhost:8080/",
          "height": 179
        },
        "outputId": "cd5bd442-4655-4c6f-b737-1051acbdb0f1"
      },
      "source": [
        "print(binary_tree_list)\n",
        "def binary_tree_from_list(tlist):\n",
        "    for i, value in enumerate(tlist):\n",
        "        if value:\n",
        "            n = binary_tree_node(value)\n",
        "            if i == 0:\n",
        "                root = n           \n",
        "            try:\n",
        "                print(tlist[2*i+1], tlist[2*i + 2])\n",
        "                n.left = binary_tree_node(tlist[2*i + 1])\n",
        "                n.right = binary_tree_node(tlist[2*i + 2])\n",
        "            except:\n",
        "                pass\n",
        "    return root\n",
        "tree = binary_tree_from_list(binary_tree_list)\n",
        "print(tree.value)"
      ],
      "execution_count": 35,
      "outputs": [
        {
          "output_type": "stream",
          "text": [
            "['A', 'B', 'C', 'D', '', '', 'E', 'G', 'F', '', '', '', '', 'H', 'I', 'K', '', 'L', 'M', '', '', '', '', '', '']\n",
            "B C\n",
            "D \n",
            " E\n",
            "G F\n",
            "H I\n",
            "K \n",
            "L M\n",
            "A\n"
          ],
          "name": "stdout"
        }
      ]
    },
    {
      "cell_type": "code",
      "metadata": {
        "id": "lUHgnl7p3emu",
        "colab_type": "code",
        "colab": {
          "base_uri": "https://localhost:8080/",
          "height": 35
        },
        "outputId": "d5ba572b-1bec-47dd-f760-9d7ac80dc915"
      },
      "source": [
        "def pre_order_list(tree):\n",
        "    \"\"\"Pre order traversal of a tree\n",
        "    print the value of each node in Pre-Order\n",
        "    by using a stack, no recursion.\n",
        "    by using tree represented as list/array.\n",
        "    \"\"\"\n",
        "    stack = [None]\n",
        "    ptr = 0\n",
        "    result = []\n",
        "    while not ptr is None:\n",
        "        result.append(tree[ptr]) # equivalent to INFO(PTR)\n",
        "        if tree[2*ptr + 1]:\n",
        "            if tree[2*ptr + 2]:\n",
        "                stack.append(2*ptr + 2)\n",
        "            ptr = 2*ptr + 1\n",
        "        else:\n",
        "            if tree[2*ptr + 2]:\n",
        "                ptr = 2*ptr + 2\n",
        "            else:\n",
        "                ptr = stack.pop()\n",
        "    return result\n",
        "print(pre_order_list(binary_tree_list))"
      ],
      "execution_count": 58,
      "outputs": [
        {
          "output_type": "stream",
          "text": [
            "['A', 'B', 'D', 'G', 'K', 'F', 'L', 'M', 'C', 'E', 'H', 'I']\n"
          ],
          "name": "stdout"
        }
      ]
    },
    {
      "cell_type": "code",
      "metadata": {
        "id": "kgqO_Pejsszp",
        "colab_type": "code",
        "colab": {
          "base_uri": "https://localhost:8080/",
          "height": 35
        },
        "outputId": "d7e3f7db-5974-46e4-dcab-3a53b8e26a8a"
      },
      "source": [
        "# Constructing a Tree Object\n",
        "q = binary_tree_node(\"A\")\n",
        "q.left = binary_tree_node(\"B\")\n",
        "q.right = binary_tree_node(\"C\")\n",
        "q.left.left = binary_tree_node(\"D\") # left B\n",
        "q.left.left.left = binary_tree_node(\"G\") # left D\n",
        "q.left.left.right = binary_tree_node(\"F\") # right D\n",
        "q.left.left.left.left = binary_tree_node(\"K\") # left G\n",
        "q.left.left.right.left = binary_tree_node(\"L\") # Left F\n",
        "q.left.left.right.right = binary_tree_node(\"M\") # right F\n",
        "q.right.right = binary_tree_node(\"E\") # right C\n",
        "q.right.right.left = binary_tree_node(\"H\") # left E\n",
        "q.right.right.right = binary_tree_node(\"I\") # right E\n",
        "\n",
        "def pre_order(tree):\n",
        "    \"\"\"Pre order traversal of a tree\n",
        "    print the value of each node in Pre-Order\n",
        "    by using a stack, no recursion.\n",
        "    by using tree object.\n",
        "    \"\"\"\n",
        "    stack = [None]\n",
        "    ptr = tree\n",
        "    result = []\n",
        "    while not ptr is None:\n",
        "        result.append(ptr.value) # equivalent to INFO(PTR)\n",
        "        if ptr.left:\n",
        "            if ptr.right:\n",
        "                stack.append(ptr.right)\n",
        "            ptr = ptr.left\n",
        "        else:\n",
        "            if ptr.right:\n",
        "                ptr = ptr.right\n",
        "            else:\n",
        "                ptr = stack.pop()\n",
        "    return result\n",
        "print(pre_order(q))"
      ],
      "execution_count": 40,
      "outputs": [
        {
          "output_type": "stream",
          "text": [
            "['A', 'B', 'D', 'G', 'K', 'F', 'L', 'M', 'C', 'E', 'H', 'I']\n"
          ],
          "name": "stdout"
        }
      ]
    },
    {
      "cell_type": "code",
      "metadata": {
        "id": "_eTGCPf-wXlI",
        "colab_type": "code",
        "colab": {}
      },
      "source": [
        ""
      ],
      "execution_count": 0,
      "outputs": []
    }
  ]
}