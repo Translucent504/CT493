{
 "cells": [
  {
   "cell_type": "markdown",
   "metadata": {},
   "source": [
    "# Homework\n",
    "## Linear Data structures:\n",
    "1. Array\n",
    "2. Stack\n",
    "3. Queue:\n",
    "    - **Circular queue**.\n",
    "4. Linked list"
   ]
  },
  {
   "cell_type": "code",
   "execution_count": 66,
   "metadata": {},
   "outputs": [],
   "source": [
    "class Error(Exception):\n",
    "    pass\n",
    "\n",
    "class QueueIsFull(Error):\n",
    "    pass\n",
    "\n",
    "class QueueIsEmpty(Error):\n",
    "    pass\n",
    "\n",
    "class circularQueueFixed:\n",
    "    \"\"\"\n",
    "    Implementation of a fixed size queue using Lists in Python\n",
    "    \"\"\"\n",
    "    def __init__(self, size):\n",
    "        self.size = size\n",
    "        self.que = [None]*size\n",
    "        self._rear = self._front = 0\n",
    "    \n",
    "    def isFull(self):\n",
    "        return (((self._rear + 1) % self.size) == self._front) and not self.isEmpty()\n",
    "    \n",
    "    def isEmpty(self):\n",
    "        return self.getFront() is None\n",
    "    \n",
    "    def enqueue(self, item):\n",
    "        if self.isFull():\n",
    "            raise QueueIsFull\n",
    "        elif self.isEmpty():\n",
    "            self._rear = self._front\n",
    "            self.que[self._rear] = item\n",
    "        else:\n",
    "            self._rear = (self._rear + 1) % self.size\n",
    "            self.que[self._rear] = item\n",
    "         \n",
    "    def dequeue(self):\n",
    "        if self.isEmpty():\n",
    "            raise QueueIsEmpty\n",
    "        else:\n",
    "            res = self.que[self._front]\n",
    "            self.que[self._front] = None\n",
    "            self._front = (self._front + 1) % self.size\n",
    "        return res\n",
    "    \n",
    "    def getFront(self):\n",
    "        return self.que[self._front]\n",
    "    \n",
    "    def getRear(self):\n",
    "        return self.que[self._rear]\n",
    "    \n",
    "            \n",
    "                   "
   ]
  },
  {
   "cell_type": "markdown",
   "metadata": {},
   "source": [
    "# Data operations:\n",
    "1. Traversal\n",
    "2. Insertion\n",
    "3. Deletion\n",
    "4. Search\n",
    "5. Sort\n",
    "6. Merge"
   ]
  }
 ],
 "metadata": {
  "kernelspec": {
   "display_name": "Python 3",
   "language": "python",
   "name": "python3"
  },
  "language_info": {
   "codemirror_mode": {
    "name": "ipython",
    "version": 3
   },
   "file_extension": ".py",
   "mimetype": "text/x-python",
   "name": "python",
   "nbconvert_exporter": "python",
   "pygments_lexer": "ipython3",
   "version": "3.7.4"
  }
 },
 "nbformat": 4,
 "nbformat_minor": 2
}
